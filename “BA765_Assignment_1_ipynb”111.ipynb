{
  "nbformat": 4,
  "nbformat_minor": 0,
  "metadata": {
    "colab": {
      "name": "“BA765-Assignment-1.ipynb”111",
      "provenance": [],
      "include_colab_link": true
    },
    "kernelspec": {
      "name": "python3",
      "display_name": "Python 3"
    },
    "language_info": {
      "name": "python"
    }
  },
  "cells": [
    {
      "cell_type": "markdown",
      "metadata": {
        "id": "view-in-github",
        "colab_type": "text"
      },
      "source": [
        "<a href=\"https://colab.research.google.com/github/xsmu/ba765-assignments/blob/main/%E2%80%9CBA765_Assignment_1_ipynb%E2%80%9D111.ipynb\" target=\"_parent\"><img src=\"https://colab.research.google.com/assets/colab-badge.svg\" alt=\"Open In Colab\"/></a>"
      ]
    },
    {
      "cell_type": "markdown",
      "metadata": {
        "id": "OFRpRdG3qXxC"
      },
      "source": [
        "# BA765 Assignment 1\n",
        "\n",
        "Please read **carefully**: \n",
        "\n",
        "This notebook has a number of questions for you to complete individually. This is NOT a group assignment. \n",
        "\n",
        "1. Create a new private repository called `ba765-assignments`. Make sure your repository has a README file, and the README file has a few sentences that describes the purpose of this repository. (If you already have a repo with this name, you can use another name but make sure the phrase `ba765-assignments` is in the name!)\n",
        "\n",
        "2. Go to `Settings -> Manage access -> Invite a collaborator` to add me as a collaborator on your project. My github username is `kucukben`.\n",
        "\n",
        "3. BEFORE answering any questions, save this notebook to the repository. As a commit message, write \"assignment question notebook added\".\n",
        "\n",
        "4. Answer the questions below to the best of your abilities. Don't delete the question cells, if needed, add new cells between questions to answer the questions.\n",
        "\n",
        "5. After answering the questions below to the best of your abilities, push this notebook to your repository (whether directly from google colab, or by first downloading it to your local environment and then uploading it to the repository using github desktop). Make sure to add a commit message that explains what you have change in the code briefly, e.g. \"all assignment questions answered\"\n",
        "\n",
        "6. If you want, you can make further updates to the code, or you can save the notebook to repository before you finish all questions. In these cases make sure the commit message is meaningful, e.g. \"first attempt at questions 1 to 5\". At any time when I look at your repository, I should be able to tell the completion stage of the homework for the code that is in the repository.\n",
        "\n",
        "7. Make sure your repository contains the final version of your code.\n",
        "\n",
        "ENJOY!\n"
      ]
    },
    {
      "cell_type": "markdown",
      "metadata": {
        "id": "rKM0l7loxAII"
      },
      "source": [
        "##A. Numeric variables and comparison:"
      ]
    },
    {
      "cell_type": "markdown",
      "metadata": {
        "id": "lXcjEzluxNse"
      },
      "source": [
        "Last fall, my friend from Rhode Island and I had an argument and we need you to settle it: \n",
        "\n",
        "The number of Covid-19 reported cases in Massachusetts (MA) was 121,546, as of September 3, 2020, and the number of Covid-19 reported cases in Rhode Island (RI) was 22,143 at that time.\n",
        "\n",
        "My friend claimed that Massachusetts had more Covid-19 cases per 100K population than Rhode Island, and I claimed otherwise. Who was right?\n",
        "\n",
        "Take the population of MA as 6,892,503 and the population of Rhode Island as 1,059,361 (est. July 1, 2019, source: Wikipedia/Census.gov).\n",
        "\n",
        "* Show all your coding work. \n",
        "* Write comments where you think is necessary. \n",
        "* Write a print statement **with text** reporting the outcome of the comparison. \n",
        "* Also write a print statement **with text** reporting the difference between the cases per 100K population for these two states.\n",
        "* Make sure to report the cases per 100K in integer, but round it up or down as mathematically necessary. (Hint: try `round()`)  "
      ]
    },
    {
      "cell_type": "code",
      "metadata": {
        "id": "1mNCRuBqEtqW",
        "colab": {
          "base_uri": "https://localhost:8080/"
        },
        "outputId": "0b971845-d951-4b97-bd0c-9bd18d0d1583"
      },
      "source": [
        "### YOUR CODE HERE\n",
        "MA=round(121546/68.92503)\n",
        "print(MA)\n",
        "RI=round(22143/10.59361)\n",
        "print(RI)\n",
        "print(\"RI had more Covid-19 cases per 100K population.\")\n",
        "dif=RI-MA\n",
        "print(dif)\n",
        "print(\"The difference between the cases per 100K population for these two states is 327.\")"
      ],
      "execution_count": 60,
      "outputs": [
        {
          "output_type": "stream",
          "text": [
            "1763\n",
            "2090\n",
            "RI had more Covid-19 cases per 100K population.\n",
            "327\n",
            "The difference between the cases per 100K population for these two states is 327.\n"
          ],
          "name": "stdout"
        }
      ]
    },
    {
      "cell_type": "markdown",
      "metadata": {
        "id": "0B6Z4bHUzYed"
      },
      "source": [
        "##B. Lists and Strings\n",
        "\n",
        "This exercise assumes that you have the file `IMDB_reviews.csv` exactly where this notebook is saved in your local machine or your mounted google drive. Alternatively, you can use \"upload to session storage\" (first icon with up-arrow) under \"Files\" to upload the file to this session only. Read the commented lines below carefully after deciding where you would place the data file.\n",
        "\n",
        "Note that if you choose to upload it to your google drive, you will need to give the exact *path* to the file below in option 2. As an example, for me the path is /drive/MyDrive/BA765_Summer21/Assignments/IMDB_reviews.csv ; for you drive/MyDrive section will stay the same but the folder names need to be edited accordingly. For this option to work, you should also mount your drive (third icon under \"Files\").\n",
        "\n"
      ]
    },
    {
      "cell_type": "code",
      "metadata": {
        "colab": {
          "base_uri": "https://localhost:8080/"
        },
        "id": "h2lK4jPQG734",
        "outputId": "2e828614-fe3d-4d36-92a2-3cee6371acfc"
      },
      "source": [
        "from google.colab import drive\n",
        "drive.mount('/content/drive')"
      ],
      "execution_count": 61,
      "outputs": [
        {
          "output_type": "stream",
          "text": [
            "Drive already mounted at /content/drive; to attempt to forcibly remount, call drive.mount(\"/content/drive\", force_remount=True).\n"
          ],
          "name": "stdout"
        }
      ]
    },
    {
      "cell_type": "code",
      "metadata": {
        "id": "fIARUHtdubkP",
        "colab": {
          "base_uri": "https://localhost:8080/",
          "height": 349
        },
        "outputId": "7c317ee7-a9bd-4744-9c95-7d9dbd103414"
      },
      "source": [
        "# STARTER CODE - DO NOT DELETE!\n",
        "\n",
        "import csv\n",
        "# option 1:\n",
        "#if you upload the file to session storge, uncomment the following line:\n",
        "#with open('IMDB_reviews.csv') as f:\n",
        "#option 2:\n",
        "#if you uplaod the file to your drive, edit and uncomment the following line:\n",
        "with open('/content/drive/MyDrive/BA765/IMDB_reviews.csv') as f:\n",
        "    reader = csv.reader(f)\n",
        "    a1 = list(reader)\n",
        "print(\"csv to list:\",a1)"
      ],
      "execution_count": 62,
      "outputs": [
        {
          "output_type": "error",
          "ename": "UnicodeDecodeError",
          "evalue": "ignored",
          "traceback": [
            "\u001b[0;31m---------------------------------------------------------------------------\u001b[0m",
            "\u001b[0;31mUnicodeDecodeError\u001b[0m                        Traceback (most recent call last)",
            "\u001b[0;32m<ipython-input-62-7c3a4c6b4789>\u001b[0m in \u001b[0;36m<module>\u001b[0;34m()\u001b[0m\n\u001b[1;32m      9\u001b[0m \u001b[0;32mwith\u001b[0m \u001b[0mopen\u001b[0m\u001b[0;34m(\u001b[0m\u001b[0;34m'/content/drive/MyDrive/BA765/IMDB_reviews.csv'\u001b[0m\u001b[0;34m)\u001b[0m \u001b[0;32mas\u001b[0m \u001b[0mf\u001b[0m\u001b[0;34m:\u001b[0m\u001b[0;34m\u001b[0m\u001b[0;34m\u001b[0m\u001b[0m\n\u001b[1;32m     10\u001b[0m     \u001b[0mreader\u001b[0m \u001b[0;34m=\u001b[0m \u001b[0mcsv\u001b[0m\u001b[0;34m.\u001b[0m\u001b[0mreader\u001b[0m\u001b[0;34m(\u001b[0m\u001b[0mf\u001b[0m\u001b[0;34m)\u001b[0m\u001b[0;34m\u001b[0m\u001b[0;34m\u001b[0m\u001b[0m\n\u001b[0;32m---> 11\u001b[0;31m     \u001b[0ma1\u001b[0m \u001b[0;34m=\u001b[0m \u001b[0mlist\u001b[0m\u001b[0;34m(\u001b[0m\u001b[0mreader\u001b[0m\u001b[0;34m)\u001b[0m\u001b[0;34m\u001b[0m\u001b[0;34m\u001b[0m\u001b[0m\n\u001b[0m\u001b[1;32m     12\u001b[0m \u001b[0mprint\u001b[0m\u001b[0;34m(\u001b[0m\u001b[0;34m\"csv to list:\"\u001b[0m\u001b[0;34m,\u001b[0m\u001b[0ma1\u001b[0m\u001b[0;34m)\u001b[0m\u001b[0;34m\u001b[0m\u001b[0;34m\u001b[0m\u001b[0m\n",
            "\u001b[0;32m/usr/lib/python3.7/codecs.py\u001b[0m in \u001b[0;36mdecode\u001b[0;34m(self, input, final)\u001b[0m\n\u001b[1;32m    320\u001b[0m         \u001b[0;31m# decode input (taking the buffer into account)\u001b[0m\u001b[0;34m\u001b[0m\u001b[0;34m\u001b[0m\u001b[0;34m\u001b[0m\u001b[0m\n\u001b[1;32m    321\u001b[0m         \u001b[0mdata\u001b[0m \u001b[0;34m=\u001b[0m \u001b[0mself\u001b[0m\u001b[0;34m.\u001b[0m\u001b[0mbuffer\u001b[0m \u001b[0;34m+\u001b[0m \u001b[0minput\u001b[0m\u001b[0;34m\u001b[0m\u001b[0;34m\u001b[0m\u001b[0m\n\u001b[0;32m--> 322\u001b[0;31m         \u001b[0;34m(\u001b[0m\u001b[0mresult\u001b[0m\u001b[0;34m,\u001b[0m \u001b[0mconsumed\u001b[0m\u001b[0;34m)\u001b[0m \u001b[0;34m=\u001b[0m \u001b[0mself\u001b[0m\u001b[0;34m.\u001b[0m\u001b[0m_buffer_decode\u001b[0m\u001b[0;34m(\u001b[0m\u001b[0mdata\u001b[0m\u001b[0;34m,\u001b[0m \u001b[0mself\u001b[0m\u001b[0;34m.\u001b[0m\u001b[0merrors\u001b[0m\u001b[0;34m,\u001b[0m \u001b[0mfinal\u001b[0m\u001b[0;34m)\u001b[0m\u001b[0;34m\u001b[0m\u001b[0;34m\u001b[0m\u001b[0m\n\u001b[0m\u001b[1;32m    323\u001b[0m         \u001b[0;31m# keep undecoded input until the next call\u001b[0m\u001b[0;34m\u001b[0m\u001b[0;34m\u001b[0m\u001b[0;34m\u001b[0m\u001b[0m\n\u001b[1;32m    324\u001b[0m         \u001b[0mself\u001b[0m\u001b[0;34m.\u001b[0m\u001b[0mbuffer\u001b[0m \u001b[0;34m=\u001b[0m \u001b[0mdata\u001b[0m\u001b[0;34m[\u001b[0m\u001b[0mconsumed\u001b[0m\u001b[0;34m:\u001b[0m\u001b[0;34m]\u001b[0m\u001b[0;34m\u001b[0m\u001b[0;34m\u001b[0m\u001b[0m\n",
            "\u001b[0;31mUnicodeDecodeError\u001b[0m: 'utf-8' codec can't decode bytes in position 8183-8184: invalid continuation byte"
          ]
        }
      ]
    },
    {
      "cell_type": "markdown",
      "metadata": {
        "id": "Qvsw5268ATT0"
      },
      "source": [
        "### B1.\n",
        "Define a variable b1 which holds the datatype for the variable a1 created above\n"
      ]
    },
    {
      "cell_type": "code",
      "metadata": {
        "id": "mGjlt5tjugWF"
      },
      "source": [
        "### YOUR CODE HERE"
      ],
      "execution_count": null,
      "outputs": []
    },
    {
      "cell_type": "markdown",
      "metadata": {
        "id": "A0nB3AhGAgxd"
      },
      "source": [
        "### B2.\n",
        "Define a variable b2 which is the length of dataset a1. "
      ]
    },
    {
      "cell_type": "code",
      "metadata": {
        "id": "9frPUTeCA8R8"
      },
      "source": [
        "### YOUR CODE HERE"
      ],
      "execution_count": null,
      "outputs": []
    },
    {
      "cell_type": "markdown",
      "metadata": {
        "id": "9FoBLdc4A9n4"
      },
      "source": [
        "### B3.\n",
        "Remove the first element of a1.\n",
        "Verify that the dataset is now one element shorter than its original length."
      ]
    },
    {
      "cell_type": "code",
      "metadata": {
        "id": "kE9lgCmJBM4l"
      },
      "source": [
        "### YOUR CODE HERE"
      ],
      "execution_count": null,
      "outputs": []
    },
    {
      "cell_type": "markdown",
      "metadata": {
        "id": "RiZ8AD98BQkt"
      },
      "source": [
        "### B4.\n",
        "Define a variable called b4 which represents the first 10 entries of the newly modified object a1. (meaning, operate on a1 after removing the first element as instructed above)"
      ]
    },
    {
      "cell_type": "code",
      "metadata": {
        "id": "HflfHasYBmhf"
      },
      "source": [
        "### YOUR CODE HERE"
      ],
      "execution_count": null,
      "outputs": []
    },
    {
      "cell_type": "markdown",
      "metadata": {
        "id": "1dsRIAUABnQ_"
      },
      "source": [
        "###B5.\n",
        "Define a variable b5 which represents the one entry  before the last one in b4. What is the datatype of b5? What is the length of b5?"
      ]
    },
    {
      "cell_type": "code",
      "metadata": {
        "id": "erW76zNaCQWF"
      },
      "source": [
        "### YOUR CODE HERE"
      ],
      "execution_count": null,
      "outputs": []
    },
    {
      "cell_type": "markdown",
      "metadata": {
        "id": "7C1flRdkCRiy"
      },
      "source": [
        "###B6.\n",
        "Define as many variables as elements of b5, with variable names as b5_x where x stands for the *index* of the elements, e.g. b5_0 should be name of the variable that hosts the first element. Determine type of each element b5_x."
      ]
    },
    {
      "cell_type": "code",
      "metadata": {
        "id": "eM1tjZpKCRBf"
      },
      "source": [
        "### YOUR CODE HERE"
      ],
      "execution_count": null,
      "outputs": []
    },
    {
      "cell_type": "markdown",
      "metadata": {
        "id": "id7vnEPDClA4"
      },
      "source": [
        "### B7\n",
        "Bring b5_0 to all lower case. Count the occurance of single quotes in it using python. Print out your result with text.\n",
        "Then, tokenize b5_0 and save this work as b7. Tokenization is to split a sentence into individual words by whitespace. What is the type of b7? What is the length of b7?"
      ]
    },
    {
      "cell_type": "code",
      "metadata": {
        "id": "uZNS0zHHDDH8"
      },
      "source": [
        "### YOUR CODE HERE"
      ],
      "execution_count": null,
      "outputs": []
    },
    {
      "cell_type": "code",
      "metadata": {
        "id": "g2fiukG8H8lV"
      },
      "source": [
        "### YOUR CODE HERE"
      ],
      "execution_count": null,
      "outputs": []
    },
    {
      "cell_type": "markdown",
      "metadata": {
        "id": "1bGc6ppMDFcE"
      },
      "source": [
        "###B8\n",
        "Make a tuple with the following elements, in this order\n",
        "\n",
        "*  your BU email\n",
        "*  how many prior python courses you had, as a float\n",
        "*  a boolean for whether you have had prior experience with the language R\n",
        "*  a list representing the bash commands for 1)copying files from one directory to another 2)changing directories 3) removing files"
      ]
    },
    {
      "cell_type": "code",
      "metadata": {
        "id": "LcAX0W5MD5FU"
      },
      "source": [
        "### YOUR WORK HERE"
      ],
      "execution_count": null,
      "outputs": []
    },
    {
      "cell_type": "markdown",
      "metadata": {
        "id": "CZtup2zmISHG"
      },
      "source": [
        "### B9\n",
        "The longest word in Shakespeare's works is \"Honorificabilitudinitatibus\". Define a variable called my_current_state that holds this word as a string. \n",
        "\n",
        "Can you write a single command that would use this variable and print out the word \"sititicin\"? (Hint: think of the reverse order access we saw in class)\n"
      ]
    },
    {
      "cell_type": "code",
      "metadata": {
        "id": "nzH4qiAuI7IN"
      },
      "source": [
        "### YOUR CODE HERE"
      ],
      "execution_count": null,
      "outputs": []
    },
    {
      "cell_type": "markdown",
      "metadata": {
        "id": "UdlSfAkmD7rc"
      },
      "source": [
        "#### Great job - you are done! \n",
        "Remember to push this notebook to your repo! "
      ]
    },
    {
      "cell_type": "code",
      "metadata": {
        "id": "ZpWb05SWp64Y"
      },
      "source": [
        "# FOR AUTOGRADING - DO NOT DELETE\n",
        "import tests\n",
        "tests.test_1()"
      ],
      "execution_count": null,
      "outputs": []
    }
  ]
}