{
  "nbformat": 4,
  "nbformat_minor": 0,
  "metadata": {
    "colab": {
      "name": "“BA765_Assignment_2.ipynb”的副本",
      "provenance": [],
      "collapsed_sections": [],
      "include_colab_link": true
    },
    "kernelspec": {
      "name": "python3",
      "display_name": "Python 3"
    }
  },
  "cells": [
    {
      "cell_type": "markdown",
      "metadata": {
        "id": "view-in-github",
        "colab_type": "text"
      },
      "source": [
        "<a href=\"https://colab.research.google.com/github/xsmu/ba765-assignments/blob/main/%E2%80%9CBA765_Assignment_2_ipynb%E2%80%9D%E7%9A%84%E5%89%AF%E6%9C%AC.ipynb\" target=\"_parent\"><img src=\"https://colab.research.google.com/assets/colab-badge.svg\" alt=\"Open In Colab\"/></a>"
      ]
    },
    {
      "cell_type": "markdown",
      "metadata": {
        "id": "mzv8h94p1lp9"
      },
      "source": [
        "# Assignment 2\n",
        "\n",
        "Complete the questions below by answering each question using the appropriate variable name. Do not change the variable names.  \n",
        "\n",
        "To keep the file sizes small, I provide you with very low volume of data, but this does not mean you should use visual inspection. For example, if the maximum value of a list is asked, find it via code, not via visual inspection. \n",
        "\n",
        "Once you completed this assignment, upload the notebook to your GitHub repository (same one that you used for assignment 1) and export your work also as `a2.py` (with this name and format) and submit to QuestromTools course site.\n",
        "\n",
        "ENJOY!"
      ]
    },
    {
      "cell_type": "markdown",
      "metadata": {
        "id": "81VWGDeE2Khh"
      },
      "source": [
        "# Question 1:\n"
      ]
    },
    {
      "cell_type": "code",
      "metadata": {
        "id": "6S3uH33EH4k6"
      },
      "source": [
        "# STARTER CODE\n",
        "\n",
        "# imports\n",
        "import requests\n",
        "\n",
        "# the URL\n",
        "URL = \"https://www.metaweather.com/api/location/search/?query=boston\"\n",
        "\n",
        "# the API response setup for this question\n",
        "resp = requests.get(URL).json()"
      ],
      "execution_count": 17,
      "outputs": []
    },
    {
      "cell_type": "code",
      "metadata": {
        "id": "By9Oc7syIW4u",
        "colab": {
          "base_uri": "https://localhost:8080/"
        },
        "outputId": "a665922d-d977-42fb-fe3f-4101289f37ad"
      },
      "source": [
        "# Q1:  save a variable q1_1, which _extracts_ the dictionary from the variable resp provided\n",
        "#      to you in the starter code for Question 1\n",
        "q1_1 = dict(resp[0])\n",
        "q1_1\n",
        "\n",
        "\n"
      ],
      "execution_count": 19,
      "outputs": [
        {
          "output_type": "execute_result",
          "data": {
            "text/plain": [
              "{'latt_long': '42.358631,-71.056702',\n",
              " 'location_type': 'City',\n",
              " 'title': 'Boston',\n",
              " 'woeid': 2367105}"
            ]
          },
          "metadata": {
            "tags": []
          },
          "execution_count": 19
        }
      ]
    },
    {
      "cell_type": "code",
      "metadata": {
        "id": "g-7uAzeFI0_f",
        "colab": {
          "base_uri": "https://localhost:8080/"
        },
        "outputId": "6819eace-4760-45c8-de92-a432a7ac02eb"
      },
      "source": [
        "# Q2: In the variable q1_2, save the keys of the dictionary in q1 as a list\n",
        "q1_2 = list(q1_1.keys())\n",
        "q1_2\n",
        "\n"
      ],
      "execution_count": 52,
      "outputs": [
        {
          "output_type": "execute_result",
          "data": {
            "text/plain": [
              "['title', 'location_type', 'woeid', 'latt_long']"
            ]
          },
          "metadata": {
            "tags": []
          },
          "execution_count": 52
        }
      ]
    },
    {
      "cell_type": "code",
      "metadata": {
        "id": "hzwzYD3vI1H1",
        "colab": {
          "base_uri": "https://localhost:8080/"
        },
        "outputId": "4885266d-6562-4e3e-b0ea-c8ad031d0a32"
      },
      "source": [
        "# Q3: extract the latitude (lat) and longitude (lng) from the dictionary\n",
        "#     Each value should be a float\n",
        "#     TIP: the dictionary key provides guidance on the order\n",
        "\n",
        "content=q1_1.get('latt_long')\n",
        "sep=content.split(',')\n",
        "lat=sep[0]\n",
        "print(lat)\n",
        "lng=sep[1]\n",
        "print(lng)\n",
        "\n",
        "\n",
        "\n"
      ],
      "execution_count": 53,
      "outputs": [
        {
          "output_type": "stream",
          "text": [
            "42.358631\n",
            "-71.056702\n"
          ],
          "name": "stdout"
        }
      ]
    },
    {
      "cell_type": "code",
      "metadata": {
        "id": "qUsFGz-4I1LU",
        "colab": {
          "base_uri": "https://localhost:8080/",
          "height": 135
        },
        "outputId": "1e285e7a-daba-441d-e765-563681c7fd68"
      },
      "source": [
        "# Q4: using the dictionary key woeid from q1, keep only the even numbers from the id\n",
        "#     save the values as seperate entries in a list. Save this list as the variable q1_4\n",
        "q1_4=[]\n",
        "woeid=q1_1.get('woeid')\n",
        "valueofwoeid=[int(x) for x in str(woeid)]\n",
        "for i in range(0,len(valueofwoeid)):\n",
        "  if valueofwoeid[i]%2==0\n",
        "  q1_4.append(valueofwoeid[i])\n",
        "q1_4\n",
        "#q1_4 = \n",
        "\n",
        "\n"
      ],
      "execution_count": 40,
      "outputs": [
        {
          "output_type": "error",
          "ename": "SyntaxError",
          "evalue": "ignored",
          "traceback": [
            "\u001b[0;36m  File \u001b[0;32m\"<ipython-input-40-a40466cebd6b>\"\u001b[0;36m, line \u001b[0;32m7\u001b[0m\n\u001b[0;31m    if valueofwoeid[i]%2==0\u001b[0m\n\u001b[0m                           ^\u001b[0m\n\u001b[0;31mSyntaxError\u001b[0m\u001b[0;31m:\u001b[0m invalid syntax\n"
          ]
        }
      ]
    },
    {
      "cell_type": "markdown",
      "metadata": {
        "id": "WhPv5Ew0Mq-k"
      },
      "source": [
        "# Question 2\n",
        "\n",
        "You have been provided a file that can be read in with the following code:\n",
        "\n",
        "```\n",
        "import pickle\n",
        "with open('q2.pkl', 'rb') as file:\n",
        "  jokes = pickle.load(file)\n",
        "```\n",
        "\n",
        "In your session, `jokes` is a list of dictionaries.  You will use this object to answer the questions below.\n",
        "\n",
        "> Hint:  If you are using Google Colab, you will need to upload the `q2.pkl` file in your gDrive or to the Colab Sesssion. "
      ]
    },
    {
      "cell_type": "code",
      "metadata": {
        "colab": {
          "base_uri": "https://localhost:8080/"
        },
        "id": "abU6XBGXm4fi",
        "outputId": "d55c12fb-e2f1-489f-a355-2e1bf9e3ea0b"
      },
      "source": [
        "from google.colab import drive\n",
        "drive.mount('/content/drive')"
      ],
      "execution_count": 15,
      "outputs": [
        {
          "output_type": "stream",
          "text": [
            "Drive already mounted at /content/drive; to attempt to forcibly remount, call drive.mount(\"/content/drive\", force_remount=True).\n"
          ],
          "name": "stdout"
        }
      ]
    },
    {
      "cell_type": "code",
      "metadata": {
        "id": "M9uUmrYAmxyM"
      },
      "source": [
        "import pickle\n",
        "with open('/content/drive/MyDrive/BA765/q2_updated (1).pkl','rb') as file:\n",
        "  jokes = pickle.load(file)"
      ],
      "execution_count": 18,
      "outputs": []
    },
    {
      "cell_type": "code",
      "metadata": {
        "id": "ZbHfSisTMC8A",
        "colab": {
          "base_uri": "https://localhost:8080/"
        },
        "outputId": "267da26b-fb39-4d97-f1ca-e6e42e058a5a"
      },
      "source": [
        "# Q1:  q2_1 should represent a set of the values from the categories key.\n",
        "q2_1 =[]\n",
        "for i in range(0,len(jokes)):\n",
        "  dic_i=dict(jokes[i])\n",
        "  dic_v=dic_i['value']\n",
        "  q2_1.append(dic_v)\n",
        "q2_1"
      ],
      "execution_count": 23,
      "outputs": [
        {
          "output_type": "execute_result",
          "data": {
            "text/plain": [
              "[{'categories': ['plain'],\n",
              "  'id': 100,\n",
              "  'joke': 'Chuck Norris grinds his coffee with his teeth and boils the water with his own rage.'},\n",
              " {'categories': ['dad joke'],\n",
              "  'id': 150,\n",
              "  'joke': 'Superman once watched an episode of Walker, Texas Ranger. He then cried himself to sleep.'},\n",
              " {'categories': ['bad joke'],\n",
              "  'id': 250,\n",
              "  'joke': 'The truth will set you free. Unless Chuck Norris has you, in which case, forget it buddy!'},\n",
              " {'categories': ['nerdy'],\n",
              "  'id': 480,\n",
              "  'joke': 'The class object inherits from Chuck Norris'},\n",
              " {'categories': ['nerdy'],\n",
              "  'id': 490,\n",
              "  'joke': \"Chuck Norris doesn't need to use AJAX because pages are too afraid to postback anyways.\"}]"
            ]
          },
          "metadata": {
            "tags": []
          },
          "execution_count": 23
        }
      ]
    },
    {
      "cell_type": "code",
      "metadata": {
        "id": "Wpc1ehwYN0bP",
        "colab": {
          "base_uri": "https://localhost:8080/",
          "height": 242
        },
        "outputId": "bb67d7bb-267e-49a5-dea4-c7f0e08e1d88"
      },
      "source": [
        "# Q2: What is the largest value (max) across the key id.  Save this value as q2_2\n",
        "q2_2_2=[]\n",
        "for i in range(0,len(jokes)):\n",
        "  id_2=dict(q2_1[i])\n",
        "  q2_2_2.qppend(id_2('id'))\n",
        "q2_2=max(q2_2_2)\n",
        "q2_2\n"
      ],
      "execution_count": 34,
      "outputs": [
        {
          "output_type": "error",
          "ename": "AttributeError",
          "evalue": "ignored",
          "traceback": [
            "\u001b[0;31m---------------------------------------------------------------------------\u001b[0m",
            "\u001b[0;31mAttributeError\u001b[0m                            Traceback (most recent call last)",
            "\u001b[0;32m<ipython-input-34-44d85c9dcf2c>\u001b[0m in \u001b[0;36m<module>\u001b[0;34m()\u001b[0m\n\u001b[1;32m      3\u001b[0m \u001b[0;32mfor\u001b[0m \u001b[0mi\u001b[0m \u001b[0;32min\u001b[0m \u001b[0mrange\u001b[0m\u001b[0;34m(\u001b[0m\u001b[0;36m0\u001b[0m\u001b[0;34m,\u001b[0m\u001b[0mlen\u001b[0m\u001b[0;34m(\u001b[0m\u001b[0mjokes\u001b[0m\u001b[0;34m)\u001b[0m\u001b[0;34m)\u001b[0m\u001b[0;34m:\u001b[0m\u001b[0;34m\u001b[0m\u001b[0;34m\u001b[0m\u001b[0m\n\u001b[1;32m      4\u001b[0m   \u001b[0mid_2\u001b[0m\u001b[0;34m=\u001b[0m\u001b[0mdict\u001b[0m\u001b[0;34m(\u001b[0m\u001b[0mq2_1\u001b[0m\u001b[0;34m[\u001b[0m\u001b[0mi\u001b[0m\u001b[0;34m]\u001b[0m\u001b[0;34m)\u001b[0m\u001b[0;34m\u001b[0m\u001b[0;34m\u001b[0m\u001b[0m\n\u001b[0;32m----> 5\u001b[0;31m   \u001b[0mq2_2_2\u001b[0m\u001b[0;34m.\u001b[0m\u001b[0mqppend\u001b[0m\u001b[0;34m(\u001b[0m\u001b[0mid_2\u001b[0m\u001b[0;34m(\u001b[0m\u001b[0;34m'id'\u001b[0m\u001b[0;34m)\u001b[0m\u001b[0;34m)\u001b[0m\u001b[0;34m\u001b[0m\u001b[0;34m\u001b[0m\u001b[0m\n\u001b[0m\u001b[1;32m      6\u001b[0m \u001b[0mq2_2\u001b[0m\u001b[0;34m=\u001b[0m\u001b[0mmax\u001b[0m\u001b[0;34m(\u001b[0m\u001b[0mq2_2_2\u001b[0m\u001b[0;34m)\u001b[0m\u001b[0;34m\u001b[0m\u001b[0;34m\u001b[0m\u001b[0m\n\u001b[1;32m      7\u001b[0m \u001b[0mq2_2\u001b[0m\u001b[0;34m\u001b[0m\u001b[0;34m\u001b[0m\u001b[0m\n",
            "\u001b[0;31mAttributeError\u001b[0m: 'dict' object has no attribute 'qppend'"
          ]
        }
      ]
    },
    {
      "cell_type": "code",
      "metadata": {
        "id": "NDBlwbi3N0gY"
      },
      "source": [
        "# Q3: Each entry of jokes has a joke key.  This is a sentence pulled randomly from an online jokes api.  \n",
        "#     Remove the following characters '.,!' (punctuation present in these jokes)\n",
        "#     Make the text lower case.\n",
        "#     Add each word in each entry as a key to a dictionary you store in the variable q2_3 below.\n",
        "#     The value for each key should represent the total number of times the word appeared across the jokes object\n",
        "#     Summary: q2_3 should be a dictionary of word:count pairs, where count is the number of times the word appeared\n",
        "#              across all entries of jokes in the joke key\n",
        "#     \n",
        "q2_3 = {}\n",
        "for i in q2_1:\n",
        "  re=\n",
        "\n",
        "\n"
      ],
      "execution_count": null,
      "outputs": []
    },
    {
      "cell_type": "markdown",
      "metadata": {
        "id": "Y1PXAz_7y2ze"
      },
      "source": [
        "# Question 3\n",
        "\n",
        "Write a function called `guessing_game` that satisfies the following requirements:\n",
        "\n",
        "1.  When the function is called, the user is prompted to guess a word\n",
        "1.  The function, internally, will randomly choose a word for the game.  The population of word (the word list) is shown below.\n",
        "1.  If the user does not guess the proper word, the user should be prompted again to try another guess\n",
        "1.  The user is only allowed 3 guesses.  If the user fails to guess the chosen word after 3 attempts, the message `Sorry, the game is over.` should be printed to the screen.\n",
        "1.  If the user enters a word not part of the list below, the message `That word is not part of the vocabulary.` should be printed to the screen.  However, if this situation occurs during the 3rd failed guess, only the message in step 4 should be printed.\n",
        "1.  If the user correctly guesses the word, the message `Correct! Well Done.` should be printed on the screen.\n",
        "1.  If a string is not input by the user, the function should print `You did not guess a string, Game Over!` and end the game. You can use `string` package as in `string.ascii_letters` to guarantee that the entry is a string semantically.\n",
        "\n",
        "\n",
        "\n",
        "The word list that should be used by the function:\n",
        "\n",
        "- `numpy`\n",
        "- `seaborn`\n",
        "- `pandas`\n",
        "- `pantab`\n",
        "- `spacy`\n",
        "- `requests`\n",
        "- `tensorflow`\n",
        "\n"
      ]
    },
    {
      "cell_type": "code",
      "metadata": {
        "id": "YdSB88Mi3r3f"
      },
      "source": [
        "# build your function below\n",
        "def guessing_game\n",
        "\n",
        "\n",
        "\n",
        "\n",
        "\n",
        "\n"
      ],
      "execution_count": null,
      "outputs": []
    }
  ]
}